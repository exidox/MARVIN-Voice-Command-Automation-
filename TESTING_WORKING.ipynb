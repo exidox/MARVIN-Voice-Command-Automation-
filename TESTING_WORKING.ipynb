{
 "cells": [
  {
   "cell_type": "code",
   "execution_count": 1,
   "metadata": {},
   "outputs": [],
   "source": [
    "import  tensorflow_io as tfio\n",
    "import numpy as np\n",
    "import tensorflow as tf\n",
    "import matplotlib.pyplot as plt"
   ]
  },
  {
   "cell_type": "code",
   "execution_count": 2,
   "metadata": {},
   "outputs": [],
   "source": [
    "def mono_16k(path):\n",
    "    file_contents = tf.io.read_file(path)\n",
    "    wav ,sample_rate = tf.audio.decode_wav(file_contents, desired_channels = 1)\n",
    "    wav = tf.squeeze(wav, axis = -1)\n",
    "    sample_rate = tf.cast(sample_rate, dtype= tf.int64)\n",
    "    #wav = tfio.audio.resample(wav, rate_in = sample_rate, rate_out = 16000)\n",
    "    return wav"
   ]
  },
  {
   "cell_type": "code",
   "execution_count": 24,
   "metadata": {},
   "outputs": [],
   "source": [
    "#path=\"C:/Users/shubh/OneDrive/Desktop/eveythingeverywhereallatonce/Btech/MINI PROJECT/Voice Automation/Dataset/one/0a2b400e_nohash_3.wav\"\n",
    "path = \"C:/Users/shubh/OneDrive/Desktop/eveythingeverywhereallatonce/Btech/MINI PROJECT/Voice Automation/Code/output4.wav\""
   ]
  },
  {
   "cell_type": "code",
   "execution_count": 25,
   "metadata": {},
   "outputs": [],
   "source": [
    "k=mono_16k(path)"
   ]
  },
  {
   "cell_type": "code",
   "execution_count": 26,
   "metadata": {},
   "outputs": [
    {
     "name": "stdout",
     "output_type": "stream",
     "text": [
      "tf.Tensor(\n",
      "[ 0.0000000e+00  0.0000000e+00 -3.0517578e-05 ...  1.2573242e-02\n",
      "  8.2092285e-03  5.9204102e-03], shape=(15360,), dtype=float32)\n"
     ]
    }
   ],
   "source": [
    "print(k)"
   ]
  },
  {
   "cell_type": "code",
   "execution_count": 27,
   "metadata": {},
   "outputs": [
    {
     "data": {
      "text/plain": [
       "<tf.Tensor: shape=(1,), dtype=int32, numpy=array([15360])>"
      ]
     },
     "execution_count": 27,
     "metadata": {},
     "output_type": "execute_result"
    }
   ],
   "source": [
    "tf.shape(k)"
   ]
  },
  {
   "cell_type": "code",
   "execution_count": 28,
   "metadata": {},
   "outputs": [
    {
     "data": {
      "text/plain": [
       "'def make_spectrogram(wav):\\n    spectrogram = tf.signal.stft(wav, frame_length= 320, frame_step=32)\\n    spectrogram = tf.abs(spectrogram)\\n    spectrogram = tf.expand_dims(spectrogram, axis =2)\\n    return spectrogram'"
      ]
     },
     "execution_count": 28,
     "metadata": {},
     "output_type": "execute_result"
    }
   ],
   "source": [
    "\"\"\"def make_spectrogram(wav):\n",
    "    spectrogram = tf.signal.stft(wav, frame_length= 320, frame_step=32)\n",
    "    spectrogram = tf.abs(spectrogram)\n",
    "    spectrogram = tf.expand_dims(spectrogram, axis =2)\n",
    "    return spectrogram\"\"\""
   ]
  },
  {
   "cell_type": "code",
   "execution_count": 29,
   "metadata": {},
   "outputs": [],
   "source": [
    "def make_spectrogram(wav):\n",
    "  input_len = 16000\n",
    "  wav = wav[:input_len]\n",
    "  zero_padding = tf.zeros([16000] - tf.shape(wav),dtype=tf.float32)\n",
    "  wav = tf.cast(wav, dtype=tf.float32)\n",
    "  equal_length = tf.concat([wav, zero_padding], 0)\n",
    "  spectrogram = tf.signal.stft(equal_length, frame_length=320, frame_step=32)\n",
    "  spectrogram = tf.abs(spectrogram)\n",
    "  spectrogram = tf.expand_dims(spectrogram, axis =2)\n",
    "\n",
    "\n",
    "  return spectrogram"
   ]
  },
  {
   "cell_type": "code",
   "execution_count": 30,
   "metadata": {},
   "outputs": [],
   "source": [
    "spectogram=make_spectrogram(k)"
   ]
  },
  {
   "cell_type": "code",
   "execution_count": 31,
   "metadata": {},
   "outputs": [
    {
     "data": {
      "text/plain": [
       "<tf.Tensor: shape=(3,), dtype=int32, numpy=array([491, 257,   1])>"
      ]
     },
     "execution_count": 31,
     "metadata": {},
     "output_type": "execute_result"
    }
   ],
   "source": [
    "tf.shape(spectogram)"
   ]
  },
  {
   "cell_type": "code",
   "execution_count": 32,
   "metadata": {},
   "outputs": [
    {
     "data": {
      "text/plain": [
       "<tf.Tensor: shape=(3,), dtype=int32, numpy=array([491,   1, 257])>"
      ]
     },
     "execution_count": 32,
     "metadata": {},
     "output_type": "execute_result"
    }
   ],
   "source": [
    "\n",
    "spectogram=tf.reshape(spectogram, (491, 1, 257))\n",
    "tf.shape(spectogram)\n"
   ]
  },
  {
   "cell_type": "code",
   "execution_count": 33,
   "metadata": {},
   "outputs": [],
   "source": [
    "model=tf.keras.models.load_model(\"C:/Users/shubh/OneDrive/Desktop/eveythingeverywhereallatonce/Btech/MINI PROJECT/Voice Automation/Code/VOICE_NEW\")"
   ]
  },
  {
   "cell_type": "code",
   "execution_count": 34,
   "metadata": {},
   "outputs": [
    {
     "name": "stdout",
     "output_type": "stream",
     "text": [
      "(None, 491, 1, 257)\n",
      "tf.Tensor([491   1 257], shape=(3,), dtype=int32)\n"
     ]
    }
   ],
   "source": [
    "config = model.get_config() # Returns pretty much every information about your model\n",
    "print(config[\"layers\"][0][\"config\"][\"batch_input_shape\"])\n",
    "print(tf.shape(spectogram))"
   ]
  },
  {
   "cell_type": "code",
   "execution_count": 35,
   "metadata": {},
   "outputs": [],
   "source": [
    "spectogram = spectogram[tf.newaxis,...]"
   ]
  },
  {
   "cell_type": "code",
   "execution_count": 36,
   "metadata": {},
   "outputs": [
    {
     "data": {
      "text/plain": [
       "<tf.Tensor: shape=(4,), dtype=int32, numpy=array([  1, 491,   1, 257])>"
      ]
     },
     "execution_count": 36,
     "metadata": {},
     "output_type": "execute_result"
    }
   ],
   "source": [
    "tf.shape(spectogram)"
   ]
  },
  {
   "cell_type": "code",
   "execution_count": 37,
   "metadata": {},
   "outputs": [
    {
     "name": "stdout",
     "output_type": "stream",
     "text": [
      "1/1 [==============================] - 0s 321ms/step\n"
     ]
    }
   ],
   "source": [
    "prediction=model.predict(spectogram)"
   ]
  },
  {
   "cell_type": "code",
   "execution_count": 38,
   "metadata": {},
   "outputs": [
    {
     "name": "stdout",
     "output_type": "stream",
     "text": [
      "9.73829\n"
     ]
    },
    {
     "data": {
      "text/plain": [
       "array([ 4.3629756 ,  6.0300393 ,  1.0555897 , -4.0034103 ,  9.73829   ,\n",
       "       -3.148623  , -6.4670453 , -1.1006742 , -4.0417013 , -0.88610214,\n",
       "       -1.2877094 ,  0.07541627,  0.24884878], dtype=float32)"
      ]
     },
     "execution_count": 38,
     "metadata": {},
     "output_type": "execute_result"
    }
   ],
   "source": [
    "o=max(prediction[0])\n",
    "print(o)\n",
    "prediction[0]"
   ]
  },
  {
   "cell_type": "code",
   "execution_count": 39,
   "metadata": {},
   "outputs": [],
   "source": [
    "ind_np = ((np.where(prediction[0] ==o ))[0])"
   ]
  },
  {
   "cell_type": "code",
   "execution_count": 40,
   "metadata": {},
   "outputs": [],
   "source": [
    "index = (ind_np[0])"
   ]
  },
  {
   "cell_type": "code",
   "execution_count": 41,
   "metadata": {},
   "outputs": [
    {
     "name": "stdout",
     "output_type": "stream",
     "text": [
      "4\n"
     ]
    }
   ],
   "source": [
    "print(index)"
   ]
  },
  {
   "cell_type": "code",
   "execution_count": 42,
   "metadata": {},
   "outputs": [],
   "source": [
    "list_label=['down', 'go', 'left', 'marvin', 'no' ,'off' ,'on', 'one' ,'right', 'stop', 'up', 'yes' ,'zero']"
   ]
  },
  {
   "cell_type": "code",
   "execution_count": 43,
   "metadata": {},
   "outputs": [
    {
     "data": {
      "text/plain": [
       "13"
      ]
     },
     "execution_count": 43,
     "metadata": {},
     "output_type": "execute_result"
    }
   ],
   "source": [
    "len(list_label)"
   ]
  },
  {
   "cell_type": "code",
   "execution_count": 44,
   "metadata": {},
   "outputs": [
    {
     "name": "stdout",
     "output_type": "stream",
     "text": [
      "no\n"
     ]
    }
   ],
   "source": [
    "print(list_label[index])"
   ]
  },
  {
   "cell_type": "code",
   "execution_count": null,
   "metadata": {},
   "outputs": [],
   "source": []
  },
  {
   "cell_type": "code",
   "execution_count": null,
   "metadata": {},
   "outputs": [],
   "source": []
  }
 ],
 "metadata": {
  "kernelspec": {
   "display_name": "Python 3",
   "language": "python",
   "name": "python3"
  },
  "language_info": {
   "codemirror_mode": {
    "name": "ipython",
    "version": 3
   },
   "file_extension": ".py",
   "mimetype": "text/x-python",
   "name": "python",
   "nbconvert_exporter": "python",
   "pygments_lexer": "ipython3",
   "version": "3.10.9"
  },
  "orig_nbformat": 4
 },
 "nbformat": 4,
 "nbformat_minor": 2
}
